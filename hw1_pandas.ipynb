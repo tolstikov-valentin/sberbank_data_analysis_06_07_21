{
 "cells": [
  {
   "cell_type": "markdown",
   "metadata": {},
   "source": [
    "**Сбербанк, Работа с данными на Python. Толстиков Валентин**"
   ]
  },
  {
   "cell_type": "markdown",
   "metadata": {},
   "source": [
    "## Анализ причин выжимаемости на Титанике\n",
    "\n",
    "В качестве первого домашнего задания Вам предстоит сформулировать и проверить гипотезы о причинах выживаемости на Титанике. Необходимые данные можно найти на [GitHub](https://github.com/aleksei-riabykh/sberbank_data_analysis_06_07_21/tree/master/data/titanic) курса, описание к данным на сайте соревнований по анализу данных [Kaggle](https://www.kaggle.com/c/titanic/data). \n",
    "\n",
    "Критерии оценивания:\n",
    "* Четко сформулированы гипотезы и выводы из них\n",
    "* Гипотез не меньше 3-х\n",
    "* Присутствуют кросс-признаковые гипотезы (например, процент выживаемости среди молодых женщин: пол + возраст)\n",
    "* Использованы группировки `.groupby()` с агрегированием `.aggregate()`, трансформацией `.transform()` или фильтрацией  `.filter()` данных\n",
    "* Присутствует визуализация\n",
    "* Присутствует общий вывод исследования"
   ]
  },
  {
   "cell_type": "markdown",
   "metadata": {},
   "source": [
    "## Шаблон исследования"
   ]
  },
  {
   "cell_type": "code",
   "execution_count": 1,
   "metadata": {},
   "outputs": [],
   "source": [
    "import pandas as pd\n",
    "import numpy as np\n",
    "import matplotlib.pyplot as plt\n",
    "import seaborn as sns\n",
    "%matplotlib inline"
   ]
  },
  {
   "cell_type": "code",
   "execution_count": 2,
   "metadata": {},
   "outputs": [],
   "source": [
    "path = './data/titanic/train.csv'\n",
    "data = pd.read_csv(path)"
   ]
  },
  {
   "cell_type": "markdown",
   "metadata": {},
   "source": [
    "### Гипотеза 1\n",
    "\n",
    "__Формулировка__:\n",
    "Выживаемость зависит от пола пассажира."
   ]
  },
  {
   "cell_type": "code",
   "execution_count": 3,
   "metadata": {},
   "outputs": [],
   "source": [
    "def count_of_survivors(x):\n",
    "    return sum(x)\n",
    "\n",
    "\n",
    "def count_of_perished(x):\n",
    "    return len(x) - sum(x)\n",
    "\n",
    "\n",
    "def proportion_of_survivors(x):\n",
    "    return sum(x) / len(x)\n",
    "\n",
    "\n",
    "agg_func = ['count', count_of_survivors, count_of_perished, proportion_of_survivors]"
   ]
  },
  {
   "cell_type": "code",
   "execution_count": 4,
   "metadata": {
    "scrolled": true
   },
   "outputs": [
    {
     "data": {
      "text/html": [
       "<div>\n",
       "<style scoped>\n",
       "    .dataframe tbody tr th:only-of-type {\n",
       "        vertical-align: middle;\n",
       "    }\n",
       "\n",
       "    .dataframe tbody tr th {\n",
       "        vertical-align: top;\n",
       "    }\n",
       "\n",
       "    .dataframe thead th {\n",
       "        text-align: right;\n",
       "    }\n",
       "</style>\n",
       "<table border=\"1\" class=\"dataframe\">\n",
       "  <thead>\n",
       "    <tr style=\"text-align: right;\">\n",
       "      <th></th>\n",
       "      <th>count</th>\n",
       "      <th>count_of_survivors</th>\n",
       "      <th>count_of_perished</th>\n",
       "      <th>proportion_of_survivors</th>\n",
       "    </tr>\n",
       "    <tr>\n",
       "      <th>Sex</th>\n",
       "      <th></th>\n",
       "      <th></th>\n",
       "      <th></th>\n",
       "      <th></th>\n",
       "    </tr>\n",
       "  </thead>\n",
       "  <tbody>\n",
       "    <tr>\n",
       "      <th>female</th>\n",
       "      <td>314</td>\n",
       "      <td>233</td>\n",
       "      <td>81</td>\n",
       "      <td>0.742038</td>\n",
       "    </tr>\n",
       "    <tr>\n",
       "      <th>male</th>\n",
       "      <td>577</td>\n",
       "      <td>109</td>\n",
       "      <td>468</td>\n",
       "      <td>0.188908</td>\n",
       "    </tr>\n",
       "  </tbody>\n",
       "</table>\n",
       "</div>"
      ],
      "text/plain": [
       "        count  count_of_survivors  count_of_perished  proportion_of_survivors\n",
       "Sex                                                                          \n",
       "female    314                 233                 81                 0.742038\n",
       "male      577                 109                468                 0.188908"
      ]
     },
     "execution_count": 4,
     "metadata": {},
     "output_type": "execute_result"
    }
   ],
   "source": [
    "data.groupby(['Sex'])['Survived'].aggregate(agg_func)"
   ]
  },
  {
   "cell_type": "code",
   "execution_count": 5,
   "metadata": {},
   "outputs": [
    {
     "data": {
      "image/png": "[encoded data removed]",
      "text/plain": [
       "<Figure size 411.875x360 with 1 Axes>"
      ]
     },
     "metadata": {
      "needs_background": "light"
     },
     "output_type": "display_data"
    }
   ],
   "source": [
    "sns.catplot(x='Sex', hue='Survived', kind='count', data=data);"
   ]
  },
  {
   "cell_type": "markdown",
   "metadata": {},
   "source": [
    "Видим, что выживаемость сильно зависит от пола пассажира: среди женщин доля выживших намного больше, чем среди мужчин.\n",
    "\n",
    "Из лекции мы знаем, что на выживаемость повлиял класс, которым путешествовал пассажир, поэтому посмотрим также на выживаемость в зависимости от пола в разрезе по классам:"
   ]
  },
  {
   "cell_type": "code",
   "execution_count": 6,
   "metadata": {},
   "outputs": [
    {
     "data": {
      "text/html": [
       "<div>\n",
       "<style scoped>\n",
       "    .dataframe tbody tr th:only-of-type {\n",
       "        vertical-align: middle;\n",
       "    }\n",
       "\n",
       "    .dataframe tbody tr th {\n",
       "        vertical-align: top;\n",
       "    }\n",
       "\n",
       "    .dataframe thead th {\n",
       "        text-align: right;\n",
       "    }\n",
       "</style>\n",
       "<table border=\"1\" class=\"dataframe\">\n",
       "  <thead>\n",
       "    <tr style=\"text-align: right;\">\n",
       "      <th></th>\n",
       "      <th></th>\n",
       "      <th>count</th>\n",
       "      <th>count_of_survivors</th>\n",
       "      <th>count_of_perished</th>\n",
       "      <th>proportion_of_survivors</th>\n",
       "    </tr>\n",
       "    <tr>\n",
       "      <th>Pclass</th>\n",
       "      <th>Sex</th>\n",
       "      <th></th>\n",
       "      <th></th>\n",
       "      <th></th>\n",
       "      <th></th>\n",
       "    </tr>\n",
       "  </thead>\n",
       "  <tbody>\n",
       "    <tr>\n",
       "      <th rowspan=\"2\" valign=\"top\">1</th>\n",
       "      <th>female</th>\n",
       "      <td>94</td>\n",
       "      <td>91</td>\n",
       "      <td>3</td>\n",
       "      <td>0.968085</td>\n",
       "    </tr>\n",
       "    <tr>\n",
       "      <th>male</th>\n",
       "      <td>122</td>\n",
       "      <td>45</td>\n",
       "      <td>77</td>\n",
       "      <td>0.368852</td>\n",
       "    </tr>\n",
       "    <tr>\n",
       "      <th rowspan=\"2\" valign=\"top\">2</th>\n",
       "      <th>female</th>\n",
       "      <td>76</td>\n",
       "      <td>70</td>\n",
       "      <td>6</td>\n",
       "      <td>0.921053</td>\n",
       "    </tr>\n",
       "    <tr>\n",
       "      <th>male</th>\n",
       "      <td>108</td>\n",
       "      <td>17</td>\n",
       "      <td>91</td>\n",
       "      <td>0.157407</td>\n",
       "    </tr>\n",
       "    <tr>\n",
       "      <th rowspan=\"2\" valign=\"top\">3</th>\n",
       "      <th>female</th>\n",
       "      <td>144</td>\n",
       "      <td>72</td>\n",
       "      <td>72</td>\n",
       "      <td>0.500000</td>\n",
       "    </tr>\n",
       "    <tr>\n",
       "      <th>male</th>\n",
       "      <td>347</td>\n",
       "      <td>47</td>\n",
       "      <td>300</td>\n",
       "      <td>0.135447</td>\n",
       "    </tr>\n",
       "  </tbody>\n",
       "</table>\n",
       "</div>"
      ],
      "text/plain": [
       "               count  count_of_survivors  count_of_perished  \\\n",
       "Pclass Sex                                                    \n",
       "1      female     94                  91                  3   \n",
       "       male      122                  45                 77   \n",
       "2      female     76                  70                  6   \n",
       "       male      108                  17                 91   \n",
       "3      female    144                  72                 72   \n",
       "       male      347                  47                300   \n",
       "\n",
       "               proportion_of_survivors  \n",
       "Pclass Sex                              \n",
       "1      female                 0.968085  \n",
       "       male                   0.368852  \n",
       "2      female                 0.921053  \n",
       "       male                   0.157407  \n",
       "3      female                 0.500000  \n",
       "       male                   0.135447  "
      ]
     },
     "execution_count": 6,
     "metadata": {},
     "output_type": "execute_result"
    }
   ],
   "source": [
    "df = data.groupby(['Pclass', 'Sex'])['Survived'].aggregate(agg_func)\n",
    "df"
   ]
  },
  {
   "cell_type": "code",
   "execution_count": 7,
   "metadata": {},
   "outputs": [
    {
     "data": {
      "image/png": "[encoded data removed]",
      "text/plain": [
       "<Figure size 720x432 with 1 Axes>"
      ]
     },
     "metadata": {
      "needs_background": "light"
     },
     "output_type": "display_data"
    }
   ],
   "source": [
    "fig, ax = plt.subplots(figsize=(10, 6))\n",
    "df.unstack()['proportion_of_survivors'].plot(kind='bar', rot=0, ax=ax)\n",
    "ax.set(yticks=np.linspace(0, 1, 11), ylabel='Доля выживших', axisbelow=True,\n",
    "       title='Сравнение доли выживших среди мужчин и женщин в разрезе по классам')\n",
    "ax.grid(axis='y')"
   ]
  },
  {
   "cell_type": "markdown",
   "metadata": {},
   "source": [
    "Видим, что для всех классов доля выживших женщин намного больше, чем доля выживших мужчин."
   ]
  },
  {
   "cell_type": "markdown",
   "metadata": {},
   "source": [
    "__Вывод__: Пол пассажира на самом деле сильно повлиял на выживаемость. Доля выживших среди женщин намного больше, чем доля выживших среди мужчин, причём такое соотношение сохраняется для каждого класса."
   ]
  },
  {
   "cell_type": "markdown",
   "metadata": {},
   "source": [
    "###  Гипотеза 2\n",
    "\n",
    "__Формулировка__:\n",
    "Выживаемость зависит от возраста пассажира."
   ]
  },
  {
   "cell_type": "markdown",
   "metadata": {},
   "source": [
    "Для проверки гипотезы разделим пассажиров по возрастным группам:"
   ]
  },
  {
   "cell_type": "code",
   "execution_count": 8,
   "metadata": {},
   "outputs": [
    {
     "name": "stdout",
     "output_type": "stream",
     "text": [
      "Минимальный возраст пассажира: 0.42\n",
      "Максимальный возраст пассажира: 80.0\n"
     ]
    }
   ],
   "source": [
    "print('Минимальный возраст пассажира: {}'.format(data['Age'].min()))\n",
    "print('Максимальный возраст пассажира: {}'.format(data['Age'].max()))"
   ]
  },
  {
   "cell_type": "code",
   "execution_count": 9,
   "metadata": {},
   "outputs": [
    {
     "data": {
      "text/plain": [
       "(20, 30]      230\n",
       "Нет данных    177\n",
       "(30, 40]      155\n",
       "(10, 20]      115\n",
       "(40, 50]       86\n",
       "(0, 10]        64\n",
       "(50, 60]       42\n",
       "(60, 70]       17\n",
       "(70, 80]        5\n",
       "Name: Age_group, dtype: int64"
      ]
     },
     "execution_count": 9,
     "metadata": {},
     "output_type": "execute_result"
    }
   ],
   "source": [
    "age_bins = np.arange(0, 81, 10)\n",
    "data['Age_group'] = pd.cut(data['Age'], bins=age_bins)\n",
    "data['Age_group'] = data['Age_group'].cat.add_categories(['Нет данных']).fillna('Нет данных')\n",
    "data['Age_group'].value_counts()"
   ]
  },
  {
   "cell_type": "code",
   "execution_count": 10,
   "metadata": {},
   "outputs": [
    {
     "data": {
      "text/html": [
       "<div>\n",
       "<style scoped>\n",
       "    .dataframe tbody tr th:only-of-type {\n",
       "        vertical-align: middle;\n",
       "    }\n",
       "\n",
       "    .dataframe tbody tr th {\n",
       "        vertical-align: top;\n",
       "    }\n",
       "\n",
       "    .dataframe thead th {\n",
       "        text-align: right;\n",
       "    }\n",
       "</style>\n",
       "<table border=\"1\" class=\"dataframe\">\n",
       "  <thead>\n",
       "    <tr style=\"text-align: right;\">\n",
       "      <th></th>\n",
       "      <th>count</th>\n",
       "      <th>count_of_survivors</th>\n",
       "      <th>count_of_perished</th>\n",
       "      <th>proportion_of_survivors</th>\n",
       "    </tr>\n",
       "    <tr>\n",
       "      <th>Age_group</th>\n",
       "      <th></th>\n",
       "      <th></th>\n",
       "      <th></th>\n",
       "      <th></th>\n",
       "    </tr>\n",
       "  </thead>\n",
       "  <tbody>\n",
       "    <tr>\n",
       "      <th>(0, 10]</th>\n",
       "      <td>64</td>\n",
       "      <td>38</td>\n",
       "      <td>26</td>\n",
       "      <td>0.593750</td>\n",
       "    </tr>\n",
       "    <tr>\n",
       "      <th>(10, 20]</th>\n",
       "      <td>115</td>\n",
       "      <td>44</td>\n",
       "      <td>71</td>\n",
       "      <td>0.382609</td>\n",
       "    </tr>\n",
       "    <tr>\n",
       "      <th>(20, 30]</th>\n",
       "      <td>230</td>\n",
       "      <td>84</td>\n",
       "      <td>146</td>\n",
       "      <td>0.365217</td>\n",
       "    </tr>\n",
       "    <tr>\n",
       "      <th>(30, 40]</th>\n",
       "      <td>155</td>\n",
       "      <td>69</td>\n",
       "      <td>86</td>\n",
       "      <td>0.445161</td>\n",
       "    </tr>\n",
       "    <tr>\n",
       "      <th>(40, 50]</th>\n",
       "      <td>86</td>\n",
       "      <td>33</td>\n",
       "      <td>53</td>\n",
       "      <td>0.383721</td>\n",
       "    </tr>\n",
       "    <tr>\n",
       "      <th>(50, 60]</th>\n",
       "      <td>42</td>\n",
       "      <td>17</td>\n",
       "      <td>25</td>\n",
       "      <td>0.404762</td>\n",
       "    </tr>\n",
       "    <tr>\n",
       "      <th>(60, 70]</th>\n",
       "      <td>17</td>\n",
       "      <td>4</td>\n",
       "      <td>13</td>\n",
       "      <td>0.235294</td>\n",
       "    </tr>\n",
       "    <tr>\n",
       "      <th>(70, 80]</th>\n",
       "      <td>5</td>\n",
       "      <td>1</td>\n",
       "      <td>4</td>\n",
       "      <td>0.200000</td>\n",
       "    </tr>\n",
       "    <tr>\n",
       "      <th>Нет данных</th>\n",
       "      <td>177</td>\n",
       "      <td>52</td>\n",
       "      <td>125</td>\n",
       "      <td>0.293785</td>\n",
       "    </tr>\n",
       "  </tbody>\n",
       "</table>\n",
       "</div>"
      ],
      "text/plain": [
       "            count  count_of_survivors  count_of_perished  \\\n",
       "Age_group                                                  \n",
       "(0, 10]        64                  38                 26   \n",
       "(10, 20]      115                  44                 71   \n",
       "(20, 30]      230                  84                146   \n",
       "(30, 40]      155                  69                 86   \n",
       "(40, 50]       86                  33                 53   \n",
       "(50, 60]       42                  17                 25   \n",
       "(60, 70]       17                   4                 13   \n",
       "(70, 80]        5                   1                  4   \n",
       "Нет данных    177                  52                125   \n",
       "\n",
       "            proportion_of_survivors  \n",
       "Age_group                            \n",
       "(0, 10]                    0.593750  \n",
       "(10, 20]                   0.382609  \n",
       "(20, 30]                   0.365217  \n",
       "(30, 40]                   0.445161  \n",
       "(40, 50]                   0.383721  \n",
       "(50, 60]                   0.404762  \n",
       "(60, 70]                   0.235294  \n",
       "(70, 80]                   0.200000  \n",
       "Нет данных                 0.293785  "
      ]
     },
     "execution_count": 10,
     "metadata": {},
     "output_type": "execute_result"
    }
   ],
   "source": [
    "df = data.groupby(['Age_group'])['Survived'].aggregate(agg_func)\n",
    "df"
   ]
  },
  {
   "cell_type": "code",
   "execution_count": 11,
   "metadata": {},
   "outputs": [
    {
     "data": {
      "image/png": "[encoded data removed]",
      "text/plain": [
       "<Figure size 915.875x432 with 1 Axes>"
      ]
     },
     "metadata": {
      "needs_background": "light"
     },
     "output_type": "display_data"
    }
   ],
   "source": [
    "sns.catplot(x='Age_group', hue='Survived', kind='count', data=data, height=6, aspect=2);"
   ]
  },
  {
   "cell_type": "markdown",
   "metadata": {},
   "source": [
    "Видим, что в каждой возрастной группе, за исключением группы **(0, 10]**, количество погибших больше, чем количество выживших."
   ]
  },
  {
   "cell_type": "code",
   "execution_count": 12,
   "metadata": {},
   "outputs": [
    {
     "data": {
      "image/png": "[encoded data removed]",
      "text/plain": [
       "<Figure size 720x432 with 1 Axes>"
      ]
     },
     "metadata": {
      "needs_background": "light"
     },
     "output_type": "display_data"
    }
   ],
   "source": [
    "fig, ax = plt.subplots(figsize=(10, 6))\n",
    "df['proportion_of_survivors'].plot(marker='o', markersize=10, ax=ax)\n",
    "ax.set_ylabel('Доля выживших')\n",
    "ax.set_title('Сравнение доли выживших по возрастным группам')\n",
    "ax.grid(True)\n",
    "plt.show()"
   ]
  },
  {
   "cell_type": "markdown",
   "metadata": {},
   "source": [
    "Наибольшие шансы выжить были у пассажиров в возрастной группе **(0, 10]**, в возрастных группах от **10** до **60** лет выживаемость примерно на одном уровне (35 - 45%), а у пассажиров старше **60** лет шансы выжить наименьшие."
   ]
  },
  {
   "cell_type": "markdown",
   "metadata": {},
   "source": [
    "Т. к. пол пассажира сильно влияет на выживаемость, то посмотрим также на выживаемость по возрастным группам в зависимости от пола:"
   ]
  },
  {
   "cell_type": "code",
   "execution_count": 13,
   "metadata": {
    "scrolled": false
   },
   "outputs": [
    {
     "data": {
      "text/html": [
       "<div>\n",
       "<style scoped>\n",
       "    .dataframe tbody tr th:only-of-type {\n",
       "        vertical-align: middle;\n",
       "    }\n",
       "\n",
       "    .dataframe tbody tr th {\n",
       "        vertical-align: top;\n",
       "    }\n",
       "\n",
       "    .dataframe thead th {\n",
       "        text-align: right;\n",
       "    }\n",
       "</style>\n",
       "<table border=\"1\" class=\"dataframe\">\n",
       "  <thead>\n",
       "    <tr style=\"text-align: right;\">\n",
       "      <th></th>\n",
       "      <th></th>\n",
       "      <th>count</th>\n",
       "      <th>count_of_survivors</th>\n",
       "      <th>count_of_perished</th>\n",
       "      <th>proportion_of_survivors</th>\n",
       "    </tr>\n",
       "    <tr>\n",
       "      <th>Sex</th>\n",
       "      <th>Age_group</th>\n",
       "      <th></th>\n",
       "      <th></th>\n",
       "      <th></th>\n",
       "      <th></th>\n",
       "    </tr>\n",
       "  </thead>\n",
       "  <tbody>\n",
       "    <tr>\n",
       "      <th rowspan=\"9\" valign=\"top\">female</th>\n",
       "      <th>(0, 10]</th>\n",
       "      <td>31</td>\n",
       "      <td>19.0</td>\n",
       "      <td>12.0</td>\n",
       "      <td>0.612903</td>\n",
       "    </tr>\n",
       "    <tr>\n",
       "      <th>(10, 20]</th>\n",
       "      <td>46</td>\n",
       "      <td>34.0</td>\n",
       "      <td>12.0</td>\n",
       "      <td>0.739130</td>\n",
       "    </tr>\n",
       "    <tr>\n",
       "      <th>(20, 30]</th>\n",
       "      <td>81</td>\n",
       "      <td>61.0</td>\n",
       "      <td>20.0</td>\n",
       "      <td>0.753086</td>\n",
       "    </tr>\n",
       "    <tr>\n",
       "      <th>(30, 40]</th>\n",
       "      <td>55</td>\n",
       "      <td>46.0</td>\n",
       "      <td>9.0</td>\n",
       "      <td>0.836364</td>\n",
       "    </tr>\n",
       "    <tr>\n",
       "      <th>(40, 50]</th>\n",
       "      <td>31</td>\n",
       "      <td>21.0</td>\n",
       "      <td>10.0</td>\n",
       "      <td>0.677419</td>\n",
       "    </tr>\n",
       "    <tr>\n",
       "      <th>(50, 60]</th>\n",
       "      <td>14</td>\n",
       "      <td>13.0</td>\n",
       "      <td>1.0</td>\n",
       "      <td>0.928571</td>\n",
       "    </tr>\n",
       "    <tr>\n",
       "      <th>(60, 70]</th>\n",
       "      <td>3</td>\n",
       "      <td>3.0</td>\n",
       "      <td>0.0</td>\n",
       "      <td>1.000000</td>\n",
       "    </tr>\n",
       "    <tr>\n",
       "      <th>(70, 80]</th>\n",
       "      <td>0</td>\n",
       "      <td>NaN</td>\n",
       "      <td>NaN</td>\n",
       "      <td>NaN</td>\n",
       "    </tr>\n",
       "    <tr>\n",
       "      <th>Нет данных</th>\n",
       "      <td>53</td>\n",
       "      <td>36.0</td>\n",
       "      <td>17.0</td>\n",
       "      <td>0.679245</td>\n",
       "    </tr>\n",
       "    <tr>\n",
       "      <th rowspan=\"9\" valign=\"top\">male</th>\n",
       "      <th>(0, 10]</th>\n",
       "      <td>33</td>\n",
       "      <td>19.0</td>\n",
       "      <td>14.0</td>\n",
       "      <td>0.575758</td>\n",
       "    </tr>\n",
       "    <tr>\n",
       "      <th>(10, 20]</th>\n",
       "      <td>69</td>\n",
       "      <td>10.0</td>\n",
       "      <td>59.0</td>\n",
       "      <td>0.144928</td>\n",
       "    </tr>\n",
       "    <tr>\n",
       "      <th>(20, 30]</th>\n",
       "      <td>149</td>\n",
       "      <td>23.0</td>\n",
       "      <td>126.0</td>\n",
       "      <td>0.154362</td>\n",
       "    </tr>\n",
       "    <tr>\n",
       "      <th>(30, 40]</th>\n",
       "      <td>100</td>\n",
       "      <td>23.0</td>\n",
       "      <td>77.0</td>\n",
       "      <td>0.230000</td>\n",
       "    </tr>\n",
       "    <tr>\n",
       "      <th>(40, 50]</th>\n",
       "      <td>55</td>\n",
       "      <td>12.0</td>\n",
       "      <td>43.0</td>\n",
       "      <td>0.218182</td>\n",
       "    </tr>\n",
       "    <tr>\n",
       "      <th>(50, 60]</th>\n",
       "      <td>28</td>\n",
       "      <td>4.0</td>\n",
       "      <td>24.0</td>\n",
       "      <td>0.142857</td>\n",
       "    </tr>\n",
       "    <tr>\n",
       "      <th>(60, 70]</th>\n",
       "      <td>14</td>\n",
       "      <td>1.0</td>\n",
       "      <td>13.0</td>\n",
       "      <td>0.071429</td>\n",
       "    </tr>\n",
       "    <tr>\n",
       "      <th>(70, 80]</th>\n",
       "      <td>5</td>\n",
       "      <td>1.0</td>\n",
       "      <td>4.0</td>\n",
       "      <td>0.200000</td>\n",
       "    </tr>\n",
       "    <tr>\n",
       "      <th>Нет данных</th>\n",
       "      <td>124</td>\n",
       "      <td>16.0</td>\n",
       "      <td>108.0</td>\n",
       "      <td>0.129032</td>\n",
       "    </tr>\n",
       "  </tbody>\n",
       "</table>\n",
       "</div>"
      ],
      "text/plain": [
       "                   count  count_of_survivors  count_of_perished  \\\n",
       "Sex    Age_group                                                  \n",
       "female (0, 10]        31                19.0               12.0   \n",
       "       (10, 20]       46                34.0               12.0   \n",
       "       (20, 30]       81                61.0               20.0   \n",
       "       (30, 40]       55                46.0                9.0   \n",
       "       (40, 50]       31                21.0               10.0   \n",
       "       (50, 60]       14                13.0                1.0   \n",
       "       (60, 70]        3                 3.0                0.0   \n",
       "       (70, 80]        0                 NaN                NaN   \n",
       "       Нет данных     53                36.0               17.0   \n",
       "male   (0, 10]        33                19.0               14.0   \n",
       "       (10, 20]       69                10.0               59.0   \n",
       "       (20, 30]      149                23.0              126.0   \n",
       "       (30, 40]      100                23.0               77.0   \n",
       "       (40, 50]       55                12.0               43.0   \n",
       "       (50, 60]       28                 4.0               24.0   \n",
       "       (60, 70]       14                 1.0               13.0   \n",
       "       (70, 80]        5                 1.0                4.0   \n",
       "       Нет данных    124                16.0              108.0   \n",
       "\n",
       "                   proportion_of_survivors  \n",
       "Sex    Age_group                            \n",
       "female (0, 10]                    0.612903  \n",
       "       (10, 20]                   0.739130  \n",
       "       (20, 30]                   0.753086  \n",
       "       (30, 40]                   0.836364  \n",
       "       (40, 50]                   0.677419  \n",
       "       (50, 60]                   0.928571  \n",
       "       (60, 70]                   1.000000  \n",
       "       (70, 80]                        NaN  \n",
       "       Нет данных                 0.679245  \n",
       "male   (0, 10]                    0.575758  \n",
       "       (10, 20]                   0.144928  \n",
       "       (20, 30]                   0.154362  \n",
       "       (30, 40]                   0.230000  \n",
       "       (40, 50]                   0.218182  \n",
       "       (50, 60]                   0.142857  \n",
       "       (60, 70]                   0.071429  \n",
       "       (70, 80]                   0.200000  \n",
       "       Нет данных                 0.129032  "
      ]
     },
     "execution_count": 13,
     "metadata": {},
     "output_type": "execute_result"
    }
   ],
   "source": [
    "df = data.groupby(['Sex', 'Age_group'])['Survived'].aggregate(agg_func)\n",
    "df"
   ]
  },
  {
   "cell_type": "code",
   "execution_count": 14,
   "metadata": {},
   "outputs": [
    {
     "data": {
      "image/png": "[encoded data removed]",
      "text/plain": [
       "<Figure size 864x432 with 1 Axes>"
      ]
     },
     "metadata": {
      "needs_background": "light"
     },
     "output_type": "display_data"
    }
   ],
   "source": [
    "fig, ax = plt.subplots(figsize=(12, 6))\n",
    "\n",
    "df.loc['male', 'proportion_of_survivors'].plot(label='Мужчины', marker='o', markersize=10, ax=ax)\n",
    "df.loc['female', 'proportion_of_survivors'].plot(label='Женщины', marker='o', markersize=10, ax=ax)\n",
    "ax.set(xlabel='Возрастные группы', ylabel='Доля выживших',\n",
    "       title='Сравнение доли выживших по возрастным группам среди мужчин и женщин')\n",
    "ax.legend()\n",
    "ax.grid(True)\n",
    "plt.show()"
   ]
  },
  {
   "cell_type": "markdown",
   "metadata": {},
   "source": [
    "У женщин в каждой возрастной группе процент выживших больше **60%**. Тогда как у мужчин, за исключением группы **(0, 10]**, выживаемость находится примерно на одном уровне и не превышает **23**%."
   ]
  },
  {
   "cell_type": "markdown",
   "metadata": {},
   "source": [
    "__Вывод__: У мужчин возраст не оказывает существенного влияния на выживаемость: за исключением детей (возрастная группа **(0, 10]**), у которых выживаемость около **58%**, выживаемость находится примерно на одном уровне.\n",
    "\n",
    "У женщин также нельзя сказать, что возраст оказывает существенное влияние на выживаемость: хотя и видна некоторая положительная корреляция доли выживших с возрастом, надо учитывать, что в старших возрастных группах (старше 50 лет) количество женщин было значительно меньше, чем в других возрастных группах, и если не учитывать старшие возрастные группы, то никакой корреляции выделить нельзя.\n",
    "\n",
    "При этом в каждой возрастной группе доля выживших женщин больше доли выживших мужчин."
   ]
  },
  {
   "cell_type": "markdown",
   "metadata": {},
   "source": [
    "### Гипотеза 3\n",
    " \n",
    "__Формулировка__: Внутри групп пассажиров, разделённых по полу и классу цена за билет у выживших выше, чем у погибших."
   ]
  },
  {
   "cell_type": "markdown",
   "metadata": {},
   "source": [
    "Для проверки гипотезы сравним средние и медианные цены за билет среди выживших и погибших разделённых на группы по полу и классу:"
   ]
  },
  {
   "cell_type": "code",
   "execution_count": 15,
   "metadata": {},
   "outputs": [
    {
     "data": {
      "text/html": [
       "<div>\n",
       "<style scoped>\n",
       "    .dataframe tbody tr th:only-of-type {\n",
       "        vertical-align: middle;\n",
       "    }\n",
       "\n",
       "    .dataframe tbody tr th {\n",
       "        vertical-align: top;\n",
       "    }\n",
       "\n",
       "    .dataframe thead th {\n",
       "        text-align: right;\n",
       "    }\n",
       "</style>\n",
       "<table border=\"1\" class=\"dataframe\">\n",
       "  <thead>\n",
       "    <tr style=\"text-align: right;\">\n",
       "      <th></th>\n",
       "      <th></th>\n",
       "      <th></th>\n",
       "      <th>count</th>\n",
       "      <th>median</th>\n",
       "      <th>mean</th>\n",
       "    </tr>\n",
       "    <tr>\n",
       "      <th>Sex</th>\n",
       "      <th>Pclass</th>\n",
       "      <th>Survived</th>\n",
       "      <th></th>\n",
       "      <th></th>\n",
       "      <th></th>\n",
       "    </tr>\n",
       "  </thead>\n",
       "  <tbody>\n",
       "    <tr>\n",
       "      <th rowspan=\"6\" valign=\"top\">female</th>\n",
       "      <th rowspan=\"2\" valign=\"top\">1</th>\n",
       "      <th>0</th>\n",
       "      <td>3</td>\n",
       "      <td>151.55000</td>\n",
       "      <td>110.604167</td>\n",
       "    </tr>\n",
       "    <tr>\n",
       "      <th>1</th>\n",
       "      <td>91</td>\n",
       "      <td>82.17080</td>\n",
       "      <td>105.978159</td>\n",
       "    </tr>\n",
       "    <tr>\n",
       "      <th rowspan=\"2\" valign=\"top\">2</th>\n",
       "      <th>0</th>\n",
       "      <td>6</td>\n",
       "      <td>17.00000</td>\n",
       "      <td>18.250000</td>\n",
       "    </tr>\n",
       "    <tr>\n",
       "      <th>1</th>\n",
       "      <td>70</td>\n",
       "      <td>23.00000</td>\n",
       "      <td>22.288989</td>\n",
       "    </tr>\n",
       "    <tr>\n",
       "      <th rowspan=\"2\" valign=\"top\">3</th>\n",
       "      <th>0</th>\n",
       "      <td>72</td>\n",
       "      <td>14.47915</td>\n",
       "      <td>19.773093</td>\n",
       "    </tr>\n",
       "    <tr>\n",
       "      <th>1</th>\n",
       "      <td>72</td>\n",
       "      <td>9.46875</td>\n",
       "      <td>12.464526</td>\n",
       "    </tr>\n",
       "    <tr>\n",
       "      <th rowspan=\"6\" valign=\"top\">male</th>\n",
       "      <th rowspan=\"2\" valign=\"top\">1</th>\n",
       "      <th>0</th>\n",
       "      <td>77</td>\n",
       "      <td>42.40000</td>\n",
       "      <td>62.894910</td>\n",
       "    </tr>\n",
       "    <tr>\n",
       "      <th>1</th>\n",
       "      <td>45</td>\n",
       "      <td>35.50000</td>\n",
       "      <td>74.637320</td>\n",
       "    </tr>\n",
       "    <tr>\n",
       "      <th rowspan=\"2\" valign=\"top\">2</th>\n",
       "      <th>0</th>\n",
       "      <td>91</td>\n",
       "      <td>13.00000</td>\n",
       "      <td>19.488965</td>\n",
       "    </tr>\n",
       "    <tr>\n",
       "      <th>1</th>\n",
       "      <td>17</td>\n",
       "      <td>18.75000</td>\n",
       "      <td>21.095100</td>\n",
       "    </tr>\n",
       "    <tr>\n",
       "      <th rowspan=\"2\" valign=\"top\">3</th>\n",
       "      <th>0</th>\n",
       "      <td>300</td>\n",
       "      <td>7.89580</td>\n",
       "      <td>12.204469</td>\n",
       "    </tr>\n",
       "    <tr>\n",
       "      <th>1</th>\n",
       "      <td>47</td>\n",
       "      <td>8.05000</td>\n",
       "      <td>15.579696</td>\n",
       "    </tr>\n",
       "  </tbody>\n",
       "</table>\n",
       "</div>"
      ],
      "text/plain": [
       "                        count     median        mean\n",
       "Sex    Pclass Survived                              \n",
       "female 1      0             3  151.55000  110.604167\n",
       "              1            91   82.17080  105.978159\n",
       "       2      0             6   17.00000   18.250000\n",
       "              1            70   23.00000   22.288989\n",
       "       3      0            72   14.47915   19.773093\n",
       "              1            72    9.46875   12.464526\n",
       "male   1      0            77   42.40000   62.894910\n",
       "              1            45   35.50000   74.637320\n",
       "       2      0            91   13.00000   19.488965\n",
       "              1            17   18.75000   21.095100\n",
       "       3      0           300    7.89580   12.204469\n",
       "              1            47    8.05000   15.579696"
      ]
     },
     "execution_count": 15,
     "metadata": {},
     "output_type": "execute_result"
    }
   ],
   "source": [
    "df = data.groupby(['Sex', 'Pclass', 'Survived'])['Fare'].aggregate(['count', 'median', 'mean'])\n",
    "df"
   ]
  },
  {
   "cell_type": "markdown",
   "metadata": {},
   "source": [
    "В некоторых группах оказалось совсем небольшое число выживших, статистика по таким группам может носить случайный характер. Поэтому будем рассматривать только те группы, в которых и среди выживших и среди погибших оказалось более 10 человек:"
   ]
  },
  {
   "cell_type": "code",
   "execution_count": 16,
   "metadata": {
    "scrolled": true
   },
   "outputs": [
    {
     "data": {
      "text/html": [
       "<div>\n",
       "<style scoped>\n",
       "    .dataframe tbody tr th:only-of-type {\n",
       "        vertical-align: middle;\n",
       "    }\n",
       "\n",
       "    .dataframe tbody tr th {\n",
       "        vertical-align: top;\n",
       "    }\n",
       "\n",
       "    .dataframe thead tr th {\n",
       "        text-align: left;\n",
       "    }\n",
       "\n",
       "    .dataframe thead tr:last-of-type th {\n",
       "        text-align: right;\n",
       "    }\n",
       "</style>\n",
       "<table border=\"1\" class=\"dataframe\">\n",
       "  <thead>\n",
       "    <tr>\n",
       "      <th></th>\n",
       "      <th></th>\n",
       "      <th colspan=\"2\" halign=\"left\">count</th>\n",
       "      <th colspan=\"2\" halign=\"left\">median</th>\n",
       "      <th colspan=\"2\" halign=\"left\">mean</th>\n",
       "    </tr>\n",
       "    <tr>\n",
       "      <th></th>\n",
       "      <th>Survived</th>\n",
       "      <th>0</th>\n",
       "      <th>1</th>\n",
       "      <th>0</th>\n",
       "      <th>1</th>\n",
       "      <th>0</th>\n",
       "      <th>1</th>\n",
       "    </tr>\n",
       "    <tr>\n",
       "      <th>Sex</th>\n",
       "      <th>Pclass</th>\n",
       "      <th></th>\n",
       "      <th></th>\n",
       "      <th></th>\n",
       "      <th></th>\n",
       "      <th></th>\n",
       "      <th></th>\n",
       "    </tr>\n",
       "  </thead>\n",
       "  <tbody>\n",
       "    <tr>\n",
       "      <th>female</th>\n",
       "      <th>3</th>\n",
       "      <td>72</td>\n",
       "      <td>72</td>\n",
       "      <td>14.47915</td>\n",
       "      <td>9.46875</td>\n",
       "      <td>19.773093</td>\n",
       "      <td>12.464526</td>\n",
       "    </tr>\n",
       "    <tr>\n",
       "      <th rowspan=\"3\" valign=\"top\">male</th>\n",
       "      <th>1</th>\n",
       "      <td>77</td>\n",
       "      <td>45</td>\n",
       "      <td>42.40000</td>\n",
       "      <td>35.50000</td>\n",
       "      <td>62.894910</td>\n",
       "      <td>74.637320</td>\n",
       "    </tr>\n",
       "    <tr>\n",
       "      <th>2</th>\n",
       "      <td>91</td>\n",
       "      <td>17</td>\n",
       "      <td>13.00000</td>\n",
       "      <td>18.75000</td>\n",
       "      <td>19.488965</td>\n",
       "      <td>21.095100</td>\n",
       "    </tr>\n",
       "    <tr>\n",
       "      <th>3</th>\n",
       "      <td>300</td>\n",
       "      <td>47</td>\n",
       "      <td>7.89580</td>\n",
       "      <td>8.05000</td>\n",
       "      <td>12.204469</td>\n",
       "      <td>15.579696</td>\n",
       "    </tr>\n",
       "  </tbody>\n",
       "</table>\n",
       "</div>"
      ],
      "text/plain": [
       "              count        median                 mean           \n",
       "Survived          0   1         0         1          0          1\n",
       "Sex    Pclass                                                    \n",
       "female 3         72  72  14.47915   9.46875  19.773093  12.464526\n",
       "male   1         77  45  42.40000  35.50000  62.894910  74.637320\n",
       "       2         91  17  13.00000  18.75000  19.488965  21.095100\n",
       "       3        300  47   7.89580   8.05000  12.204469  15.579696"
      ]
     },
     "execution_count": 16,
     "metadata": {},
     "output_type": "execute_result"
    }
   ],
   "source": [
    "df = data.groupby(['Sex', 'Pclass']).filter(lambda x: (x['Survived'].value_counts() > 10).all())\n",
    "df = df.groupby(['Sex', 'Pclass', 'Survived'])['Fare'].aggregate(['count', 'median', 'mean'])\n",
    "df = df.unstack()\n",
    "df"
   ]
  },
  {
   "cell_type": "code",
   "execution_count": 17,
   "metadata": {
    "scrolled": false
   },
   "outputs": [
    {
     "data": {
      "image/png": "[encoded data removed]",
      "text/plain": [
       "<Figure size 1440x360 with 2 Axes>"
      ]
     },
     "metadata": {
      "needs_background": "light"
     },
     "output_type": "display_data"
    }
   ],
   "source": [
    "fig = plt.figure(figsize=(20, 5))\n",
    "\n",
    "ax = plt.subplot(1, 2, 1)\n",
    "df['mean'].plot(kind='bar', width=0.8, ax=ax)\n",
    "ax.legend(['perished', 'survivors'])\n",
    "ax.set_xticklabels(['{}, {} class'.format(*x) for x in df.index], rotation=0)\n",
    "ax.set_xlabel('Sex, Class', fontsize=14)\n",
    "ax.set_ylabel('Mean Fare', fontsize=14)\n",
    "ax.set_title('Сравнение средней цены за билет между\\n выжившими и погибшими пассажирами в разных группах')\n",
    "ax.set_axisbelow(True)\n",
    "ax.grid(True)\n",
    "\n",
    "ax = plt.subplot(1, 2, 2)\n",
    "df['median'].plot(kind='bar', width=0.8, ax=ax)\n",
    "ax.legend(['perished', 'survivors'])\n",
    "ax.set_xticklabels(['{}, {} class'.format(*x) for x in df.index], rotation=0)\n",
    "ax.set_xlabel('Sex, Class', fontsize=14)\n",
    "ax.set_ylabel('Median Fare', fontsize=14)\n",
    "ax.set_title('Сравнение медианной цены за билет между\\n выжившими и погибшими пассажирами в разных группах')\n",
    "ax.set_axisbelow(True)\n",
    "ax.grid(True)\n",
    "\n",
    "plt.show()"
   ]
  },
  {
   "cell_type": "markdown",
   "metadata": {},
   "source": [
    "В разных группах средняя и медианная цены за билет выше то у погибших, то у выживших, а в группе мужчин из первого класса средняя цена за билет выше среди погибших, а медианная - среди выживших."
   ]
  },
  {
   "cell_type": "markdown",
   "metadata": {},
   "source": [
    "__Вывод__: Наше изначальное предположение о том, что у выживших пассажиров цена за билет была выше, чем у погибших оказалось неверным."
   ]
  },
  {
   "cell_type": "markdown",
   "metadata": {},
   "source": [
    "### Вывод исследования:\n",
    "\n",
    "  "
   ]
  },
  {
   "cell_type": "markdown",
   "metadata": {},
   "source": [
    "На выживаемость наибольшее влияние оказал пол пассажира: во всех классах и во всех возрастных группах доля выживших женщин больше доли выживших мужчин.\n",
    "\n",
    "Также сильное влияние на выживаемость оказал класс, которым путешествовал пассажир: чем выше класс - тем больше был шанс выжить.\n",
    "\n",
    "Возраст пассажиров не оказал существенного влияния на выживаемость, за единственным исключением - среди мальчиков в возрасте до десяти лет доля выживших более чем в два раза больше, чем в других возрастных группах мужчин.\n",
    "\n",
    "Таким оказалось, что наибольший шанс выжить был у женщин, путешествовавших первым и вторым классом,\n",
    "а наименьший шанс - у мужчин старше 10 лет, путешествовавших вторым и третьим классом."
   ]
  },
  {
   "cell_type": "markdown",
   "metadata": {},
   "source": [
    "  "
   ]
  }
 ],
 "metadata": {
  "kernelspec": {
   "display_name": "Python 3",
   "language": "python",
   "name": "python3"
  },
  "language_info": {
   "codemirror_mode": {
    "name": "ipython",
    "version": 3
   },
   "file_extension": ".py",
   "mimetype": "text/x-python",
   "name": "python",
   "nbconvert_exporter": "python",
   "pygments_lexer": "ipython3",
   "version": "3.8.10"
  }
 },
 "nbformat": 4,
 "nbformat_minor": 2
}
